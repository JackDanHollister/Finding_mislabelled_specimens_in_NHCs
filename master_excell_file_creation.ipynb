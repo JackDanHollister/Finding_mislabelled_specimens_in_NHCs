{
 "cells": [
  {
   "cell_type": "code",
   "execution_count": null,
   "metadata": {},
   "outputs": [],
   "source": [
    "##TAKE EXCELL FILES PRODUCED BY MODEL RUN, COMBINE INTO ONE FILE"
   ]
  },
  {
   "cell_type": "code",
   "execution_count": null,
   "metadata": {},
   "outputs": [],
   "source": [
    "import os\n",
    "import pandas as pd\n",
    "\n",
    "# Function to load all Excel files and compile the data into a single DataFrame\n",
    "def load_and_compile_data(directory_path):\n",
    "    all_data = []\n",
    "    # List all Excel files in the directory\n",
    "    for file_name in os.listdir(directory_path):\n",
    "        if file_name.endswith('.xlsx'):\n",
    "            file_path = os.path.join(directory_path, file_name)\n",
    "            # Read the Excel file\n",
    "            data = pd.read_excel(file_path)\n",
    "            # Append the data to the list\n",
    "            all_data.append(data)\n",
    "    # Concatenate all data into one DataFrame\n",
    "    compiled_data = pd.concat(all_data, ignore_index=True)\n",
    "    return compiled_data\n",
    "\n",
    "# Function to analyze the misclassifications\n",
    "def analyze_misclassifications(compiled_data):\n",
    "    # Group the data by image identifier and misclassification details\n",
    "    misclassification_summary = compiled_data.groupby(['Image Filename', 'True Label', 'Predicted Label']).size().reset_index(name='Count')\n",
    "    # Sort the summary to show the most frequent misclassifications first\n",
    "    misclassification_summary = misclassification_summary.sort_values(by='Count', ascending=False)\n",
    "    return misclassification_summary\n",
    "\n",
    "# Replace 'your_directory_path' with the path of your directory containing the Excel files\n",
    "directory_path = '../incorrect_curation/moth_testingtrain/incorr/'\n",
    "\n",
    "# Load and compile data from Excel files\n",
    "compiled_data = load_and_compile_data(directory_path)\n",
    "\n",
    "# Analyze misclassifications\n",
    "misclassification_summary = analyze_misclassifications(compiled_data)\n",
    "\n",
    "# Save the summary to a CSV file\n",
    "misclassification_summary.to_csv(os.path.join(directory_path, 'misclassification_summary.csv'), index=False)\n",
    "\n",
    "# Print a message that the process is complete\n",
    "print(\"Misclassification summary has been saved to 'misclassification_summary.csv'.\")"
   ]
  },
  {
   "cell_type": "code",
   "execution_count": null,
   "metadata": {},
   "outputs": [],
   "source": []
  },
  {
   "cell_type": "code",
   "execution_count": null,
   "metadata": {},
   "outputs": [],
   "source": [
    "### COMBINE THROUGH TEST FOLDERS AND PRODUCE OCCURANCE TALLY WITHIN SET FOLDERS"
   ]
  },
  {
   "cell_type": "code",
   "execution_count": null,
   "metadata": {},
   "outputs": [],
   "source": [
    "import os\n",
    "import pandas as pd\n",
    "from collections import Counter\n",
    "\n",
    "# Base directory\n",
    "base_dir = '/media/cryptobiovis/17d4ec92-0c5a-4c67-8495-32dbeae14c24/moth_runs/mothruns_part2/moths_46/'\n",
    "\n",
    "# Initialize a Counter to tally image occurrences\n",
    "image_occurrences = Counter()\n",
    "\n",
    "# File extensions to consider\n",
    "file_extensions = ('.png', '.jpg', '.jpeg', '.JPG')\n",
    "\n",
    "# Loop through each sub-directory\n",
    "for i in range(1, 500):\n",
    "    # Define path for 'test' directory\n",
    "    test_dir = os.path.join(base_dir, f'moth_sorted_27_oct_save_offs_{i}', 'pt2', 'test')\n",
    "\n",
    "    # Function to process a directory\n",
    "    def process_directory(directory):\n",
    "        if os.path.exists(directory):\n",
    "            for class_subdir in os.listdir(directory):\n",
    "                class_dir_path = os.path.join(directory, class_subdir)\n",
    "                \n",
    "                if os.path.isdir(class_dir_path):\n",
    "                    for img_file in os.listdir(class_dir_path):\n",
    "                        if img_file.endswith(file_extensions):\n",
    "                            image_occurrences[img_file] += 1\n",
    "\n",
    "    # Process the 'test' directory\n",
    "    process_directory(test_dir)\n",
    "\n",
    "# Convert the Counter to a DataFrame\n",
    "df = pd.DataFrame(image_occurrences.items(), columns=['Image Name', 'Number of Occurrences'])\n",
    "\n",
    "# Optionally, save the DataFrame to an Excel file\n",
    "output_excel_path = '6_moth_test_image_occurrences.xlsx'\n",
    "df.to_excel(output_excel_path, index=False)\n",
    "\n",
    "print(f\"Output Excel file saved at {output_excel_path}\")\n"
   ]
  },
  {
   "cell_type": "code",
   "execution_count": null,
   "metadata": {},
   "outputs": [],
   "source": []
  },
  {
   "cell_type": "code",
   "execution_count": null,
   "metadata": {},
   "outputs": [],
   "source": [
    "###TALLY TEST OCCURANCES"
   ]
  },
  {
   "cell_type": "code",
   "execution_count": 1,
   "metadata": {},
   "outputs": [
    {
     "data": {
      "text/plain": [
       "'../incorrect_curation/moth_testingtrain/train/final_tally.xlsx'"
      ]
     },
     "execution_count": 1,
     "metadata": {},
     "output_type": "execute_result"
    }
   ],
   "source": [
    "import os\n",
    "import pandas as pd\n",
    "\n",
    "# Directory containing the Excel files\n",
    "directory_path = '../incorrect_curation/moth_testingtrain/train/'\n",
    "\n",
    "# List all Excel files in the directory\n",
    "excel_files = [os.path.join(directory_path, f) for f in os.listdir(directory_path) if f.endswith('.xlsx')]\n",
    "\n",
    "# Load and combine the datasets\n",
    "all_data = pd.concat([pd.read_excel(fp) for fp in excel_files])\n",
    "\n",
    "# Group by 'Image Name' and sum the 'Number of Occurrences'\n",
    "final_tally = all_data.groupby('Image Name').sum().reset_index()\n",
    "\n",
    "# Save the final tally to a new Excel file\n",
    "final_tally_path = os.path.join(directory_path, 'final_tally.xlsx')\n",
    "final_tally.to_excel(final_tally_path, index=False)\n",
    "\n",
    "final_tally_path\n"
   ]
  },
  {
   "cell_type": "code",
   "execution_count": null,
   "metadata": {},
   "outputs": [],
   "source": []
  },
  {
   "cell_type": "code",
   "execution_count": 2,
   "metadata": {},
   "outputs": [],
   "source": [
    "### TALLY AND REMOVE OTHER INCORRECTIONS"
   ]
  },
  {
   "cell_type": "code",
   "execution_count": 4,
   "metadata": {},
   "outputs": [
    {
     "name": "stdout",
     "output_type": "stream",
     "text": [
      "Modified DataFrame saved to ../incorrect_curation/moth_testingtrain/incorr/modified_misclassification_summary.csv\n"
     ]
    }
   ],
   "source": [
    "import pandas as pd\n",
    "\n",
    "# Function to process each chunk of the DataFrame\n",
    "def process_chunk(chunk_df):\n",
    "    # Adding the new column with default value 0\n",
    "    chunk_df['Additional Incorrectons'] = 0\n",
    "\n",
    "    # Counting repeats and updating the new column\n",
    "    for filename in chunk_df['Image Filename'].unique():\n",
    "        repeat_count = chunk_df[chunk_df['Image Filename'] == filename].shape[0] - 1\n",
    "        if repeat_count > 0:\n",
    "            chunk_df.loc[chunk_df['Image Filename'] == filename, 'Additional Incorrectons'] = repeat_count\n",
    "\n",
    "    return chunk_df\n",
    "\n",
    "# Load the CSV file in chunks\n",
    "file_path = '../incorrect_curation/moth_testingtrain/incorr/misclassification_summary.csv'\n",
    "chunk_size = 10000  # You can adjust the chunk size based on your system's capabilities\n",
    "\n",
    "processed_chunks = []\n",
    "for chunk in pd.read_csv(file_path, chunksize=chunk_size):\n",
    "    processed_chunk = process_chunk(chunk)\n",
    "    processed_chunks.append(processed_chunk)\n",
    "\n",
    "# Combine all processed chunks\n",
    "combined_df = pd.concat(processed_chunks)\n",
    "\n",
    "# Removing duplicate rows, keeping only the first occurrence\n",
    "df_unique = combined_df.drop_duplicates(subset='Image Filename')\n",
    "\n",
    "# Specify the path for saving the modified DataFrame\n",
    "modified_file_path = '../incorrect_curation/moth_testingtrain/incorr/modified_misclassification_summary.csv'\n",
    "df_unique.to_csv(modified_file_path, index=False)\n",
    "\n",
    "print(f\"Modified DataFrame saved to {modified_file_path}\")\n"
   ]
  },
  {
   "cell_type": "code",
   "execution_count": null,
   "metadata": {},
   "outputs": [],
   "source": []
  },
  {
   "cell_type": "code",
   "execution_count": 5,
   "metadata": {},
   "outputs": [],
   "source": [
    "### MERGE MOD_CLASS_SUMM AND TALLY FILES"
   ]
  },
  {
   "cell_type": "code",
   "execution_count": 7,
   "metadata": {},
   "outputs": [
    {
     "name": "stdout",
     "output_type": "stream",
     "text": [
      "Merge completed and file saved.\n"
     ]
    }
   ],
   "source": [
    "import pandas as pd\n",
    "\n",
    "# Load the datasets\n",
    "tally_df = pd.read_excel('../incorrect_curation/moth_testingtrain/train/final_tally.xlsx')\n",
    "butterfly_df = pd.read_csv('../incorrect_curation/moth_testingtrain/incorr/modified_misclassification_summary.csv')\n",
    "\n",
    "# Merge the datasets\n",
    "merged_df = butterfly_df.merge(tally_df[['Image Name', 'Number of Occurrences']],\n",
    "                               left_on='Image Filename',\n",
    "                               right_on='Image Name',\n",
    "                               how='left')\n",
    "\n",
    "# Remove the extra 'Image Name' column after merging\n",
    "merged_df.drop('Image Name', axis=1, inplace=True)\n",
    "\n",
    "# Set tally results to 0 where there are no matches\n",
    "merged_df['Number of Occurrences'].fillna(0, inplace=True)\n",
    "\n",
    "# Save the updated butterfly dataset\n",
    "merged_df.to_csv('merged_moth_misclassification_summary.csv', index=False)\n",
    "\n",
    "print(\"Merge completed and file saved.\")\n"
   ]
  },
  {
   "cell_type": "code",
   "execution_count": null,
   "metadata": {},
   "outputs": [],
   "source": []
  },
  {
   "cell_type": "code",
   "execution_count": null,
   "metadata": {},
   "outputs": [],
   "source": [
    "### ADD COLUMNS TO WORK OUT TIMES IN TRAINING BATCH"
   ]
  },
  {
   "cell_type": "code",
   "execution_count": 1,
   "metadata": {},
   "outputs": [
    {
     "name": "stdout",
     "output_type": "stream",
     "text": [
      "Modified file saved at final_moth_classification_summary.csv\n"
     ]
    }
   ],
   "source": [
    "import pandas as pd\n",
    "\n",
    "# File path to your CSV\n",
    "file_path = '../incorrect_curation/merged_moth_misclassification_summary.csv'\n",
    "\n",
    "# Reading the CSV file\n",
    "df = pd.read_csv(file_path)\n",
    "\n",
    "# Adding the values of columns 4, 5, and 6, subtracting this value from 100,\n",
    "# and putting this value in a new column called 'Times in training batch'\n",
    "# Columns to sum are 'Count', 'Additional Incorrectons', and 'Times correct'\n",
    "df['Times in training batch'] = 100 - df.iloc[:, 3:6].sum(axis=1)\n",
    "\n",
    "# Saving the modified DataFrame to a new CSV file\n",
    "modified_file_path = 'final_moth_classification_summary.csv'\n",
    "df.to_csv(modified_file_path, index=False)\n",
    "\n",
    "print(f\"Modified file saved at {modified_file_path}\")\n"
   ]
  },
  {
   "cell_type": "code",
   "execution_count": null,
   "metadata": {},
   "outputs": [],
   "source": []
  }
 ],
 "metadata": {
  "kernelspec": {
   "display_name": "tf",
   "language": "python",
   "name": "python3"
  },
  "language_info": {
   "codemirror_mode": {
    "name": "ipython",
    "version": 3
   },
   "file_extension": ".py",
   "mimetype": "text/x-python",
   "name": "python",
   "nbconvert_exporter": "python",
   "pygments_lexer": "ipython3",
   "version": "3.10.0"
  }
 },
 "nbformat": 4,
 "nbformat_minor": 2
}
